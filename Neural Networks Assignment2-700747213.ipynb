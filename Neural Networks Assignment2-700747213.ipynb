{
 "cells": [
  {
   "cell_type": "code",
   "execution_count": 5,
   "id": "b7529ca2",
   "metadata": {},
   "outputs": [
    {
     "name": "stdout",
     "output_type": "stream",
     "text": [
      "Enter your first name: Good\n",
      "Enter your last name: Evening\n",
      "Full Name: Good Evening\n"
     ]
    }
   ],
   "source": [
    "#1.A Write a program that takes two strings from the user: first_name, last_name. Pass these variables to\n",
    "#fullname function that should return the (full name).\n",
    "#o For example:\n",
    "#▪ First_name = “your first name”, last_name = “your last name”\n",
    "#▪ Full_name = “your full name”\n",
    "\n",
    "def fullname(first_name, last_name):\n",
    "    return first_name + \" \" + last_name\n",
    "first_name = input(\"Enter your first name: \")\n",
    "last_name = input(\"Enter your last name: \")\n",
    "full_name = fullname(first_name, last_name)\n",
    "print(\"Full Name:\", full_name)"
   ]
  },
  {
   "cell_type": "code",
   "execution_count": 5,
   "id": "1fa527dd",
   "metadata": {},
   "outputs": [
    {
     "name": "stdout",
     "output_type": "stream",
     "text": [
      "Enter your first name: Good\n",
      "Enter your last name: Evening\n",
      "Full Name: Good Evening\n",
      "Every Other Character in Full Name: Go vnn\n"
     ]
    }
   ],
   "source": [
    "#1.B Write function named “string_alternative” that returns every other char in the full_name string.\n",
    "#Str = “Good evening”\n",
    "#Output: Go vnn\n",
    "\n",
    "def fullname(first_name, last_name):\n",
    "    return first_name + \" \" + last_name\n",
    "def string_alternative(full_name):\n",
    "    return full_name[::2]\n",
    "first_name = input(\"Enter your first name: \")\n",
    "last_name = input(\"Enter your last name: \")\n",
    "result = string_alternative(full_name)\n",
    "print(\"Full Name:\", full_name)\n",
    "print(\"Every Other Character in Full Name:\", result)"
   ]
  },
  {
   "cell_type": "code",
   "execution_count": 15,
   "id": "00eff347",
   "metadata": {},
   "outputs": [
    {
     "name": "stdout",
     "output_type": "stream",
     "text": [
      "Content from 'C:/Neural Networks/input.txt' has been written to 'C:/Neural Networks/output.txt'.\n"
     ]
    }
   ],
   "source": [
    "#2. Write a python program to find the wordcount in a file (input.txt) for each line and then print the output.\n",
    "#o Finally store the output in output.txt file. \n",
    "\n",
    "source_file_path = 'C:/Neural Networks/input.txt'\n",
    "destination_file_path = 'C:/Neural Networks/output.txt'\n",
    "\n",
    "with open(source_file_path, 'r') as source_file:\n",
    "        lines = source_file.readlines()\n",
    "        word_counts_per_line = [len(line.split()) for line in lines]\n",
    "    \n",
    "with open(destination_file_path, 'w') as destination_file:\n",
    "    destination_file.writelines(lines)\n",
    "    for line_num, word_count in enumerate(word_counts_per_line, start=1):\n",
    "        destination_file.write(f\"\\nLine {line_num} Word Count: {word_count}\")\n",
    "print(f\"Content from '{source_file_path}' has been written to '{destination_file_path}'.\")"
   ]
  },
  {
   "cell_type": "code",
   "execution_count": 1,
   "id": "ad3689d7",
   "metadata": {},
   "outputs": [
    {
     "name": "stdout",
     "output_type": "stream",
     "text": [
      "Enter the number of customers: 4\n",
      "Enter heights in inches (comma-separated): 150,155,145,148\n",
      "Heights in centimeters: [381.0, 393.7, 368.3, 375.92]\n"
     ]
    }
   ],
   "source": [
    "#3.Write a program, which reads heights (inches.) of customers into a list and convert these\n",
    "#heights to centimeters in a separate list using:\n",
    "#1) Nested Interactive loop.\n",
    "#2) List comprehensions\n",
    "#Example: L1: [150,155, 145, 148]\n",
    "#Output: [381.0, 393.7, 368.3, 375.92]\n",
    "\n",
    "def inches_to_cm(height_in_inches):\n",
    "    return height_in_inches * 2.54\n",
    "num_customers = int(input(\"Enter the number of customers: \"))\n",
    "heights_in_inches = [float(height) for height in input(\"Enter heights in inches (comma-separated): \").split(',')]\n",
    "\n",
    "heights_in_centimeters = []\n",
    "for height in heights_in_inches:\n",
    "    height_cm = inches_to_cm(height)\n",
    "    heights_in_centimeters.append(height_cm)\n",
    "print(\"Heights in centimeters:\", heights_in_centimeters)"
   ]
  }
 ],
 "metadata": {
  "kernelspec": {
   "display_name": "Python 3 (ipykernel)",
   "language": "python",
   "name": "python3"
  },
  "language_info": {
   "codemirror_mode": {
    "name": "ipython",
    "version": 3
   },
   "file_extension": ".py",
   "mimetype": "text/x-python",
   "name": "python",
   "nbconvert_exporter": "python",
   "pygments_lexer": "ipython3",
   "version": "3.11.4"
  }
 },
 "nbformat": 4,
 "nbformat_minor": 5
}
